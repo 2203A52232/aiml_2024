{
  "nbformat": 4,
  "nbformat_minor": 0,
  "metadata": {
    "colab": {
      "provenance": []
    },
    "kernelspec": {
      "name": "python3",
      "display_name": "Python 3"
    },
    "language_info": {
      "name": "python"
    }
  },
  "cells": [
    {
      "cell_type": "code",
      "execution_count": null,
      "metadata": {
        "colab": {
          "base_uri": "https://localhost:8080/"
        },
        "id": "YeI7Z2bIF4m1",
        "outputId": "d688dfd6-9543-4ee0-9e08-90f9a995e358"
      },
      "outputs": [
        {
          "output_type": "stream",
          "name": "stdout",
          "text": [
            "[1, 2, 3, 4]\n",
            "[1 2 3 4]\n",
            "<class 'numpy.ndarray'>\n",
            "<class 'list'>\n"
          ]
        }
      ],
      "source": [
        "#lab1- part1\n",
        "import numpy as np\n",
        "list1=[1,2,3,4]\n",
        "a=np.array(list1)\n",
        "print(list1)\n",
        "print(a)\n",
        "print(type(a))\n",
        "print(type(list1))"
      ]
    },
    {
      "cell_type": "code",
      "source": [
        "a1=[1,2,3,4]\n",
        "l1=np.array(a1)\n",
        "a2=[1,2,3,4]\n",
        "l2=np.array(a2)\n",
        "print(\"multipication of two lists\",11*l2)\n",
        "print(\"division of two lists\",l1/l2)\n",
        "print(\"power of lists\",l1**l2)\n",
        "print(\"addition of two array:\",l1+l2)"
      ],
      "metadata": {
        "colab": {
          "base_uri": "https://localhost:8080/"
        },
        "id": "GWyrkLtjF6tm",
        "outputId": "fa1f8466-f91c-47a6-8f95-3092df516020"
      },
      "execution_count": null,
      "outputs": [
        {
          "output_type": "stream",
          "name": "stdout",
          "text": [
            "multipication of two lists [11 22 33 44]\n",
            "division of two lists [1. 1. 1. 1.]\n",
            "power of lists [  1   4  27 256]\n",
            "addition of two array: [2 4 6 8]\n"
          ]
        }
      ]
    },
    {
      "cell_type": "code",
      "source": [],
      "metadata": {
        "id": "mOhSLamOTT_F"
      },
      "execution_count": null,
      "outputs": []
    },
    {
      "cell_type": "code",
      "source": [
        "print(\"sin value of list\",np.sin(l1))\n",
        "print(\"log value of list\",np.log(l1))\n",
        "print(\"log2 values of list\",np.log2(l1))\n",
        "print(\"exponent values of list\",np.exp(l1))"
      ],
      "metadata": {
        "colab": {
          "base_uri": "https://localhost:8080/"
        },
        "id": "jGpcqqNPK-9L",
        "outputId": "a0495c4b-93f9-4ded-9898-e62da2dd3b89"
      },
      "execution_count": null,
      "outputs": [
        {
          "output_type": "stream",
          "name": "stdout",
          "text": [
            "sin value of list [ 0.84147098  0.90929743  0.14112001 -0.7568025 ]\n",
            "log value of list [0.         0.69314718 1.09861229 1.38629436]\n",
            "log2 values of list [0.        1.        1.5849625 2.       ]\n",
            "exponent values of list [ 2.71828183  7.3890561  20.08553692 54.59815003]\n"
          ]
        }
      ]
    },
    {
      "cell_type": "code",
      "source": [],
      "metadata": {
        "id": "p2CoXlLrQg7H"
      },
      "execution_count": null,
      "outputs": []
    }
  ]
}